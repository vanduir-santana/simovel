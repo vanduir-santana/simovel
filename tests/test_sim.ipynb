{
 "cells": [
  {
   "cell_type": "markdown",
   "metadata": {},
   "source": [
    "# Testes Simulador Habitacional Caixa\n",
    "## Simulador CEF"
   ]
  },
  {
   "cell_type": "markdown",
   "id": "70fe2f0d",
   "metadata": {},
   "source": [
    "### Testar exceções"
   ]
  },
  {
   "cell_type": "code",
   "execution_count": 11,
   "metadata": {},
   "outputs": [
    {
     "name": "stdout",
     "output_type": "stream",
     "text": [
      "A opção de financiamento 100501122 é inválida.\n",
      "Opção financiamento VÁLIDA: \"OpcaoFinanciamento.SBPE_TR_IPCA_OU_TX_FIXA_IMOVEL_VINCULADO\"\n",
      "O valor do imóvel precisa ser de no mínimo: R$ 10.000,00\n",
      "O valor da renda familiar bruta de R$ 10,00 é baixo, precisa ser de no mínimo: R$ 1.100,00.\n",
      "Data nascimento 04/02/2004 aceita!\n",
      "O tamanho da UF tem que ser 2.\n"
     ]
    }
   ],
   "source": [
    "from exc import *\n",
    "from sims import caixa\n",
    "from util import Decimal2\n",
    "\n",
    "Decimal2.setar_local_pt_br()\n",
    "s = caixa.Simulador()\n",
    "try:\n",
    "    s.opcao_financiamento = 100501122\n",
    "except ErroOpcaoFinanciamento as erro:\n",
    "    print(erro)\n",
    "\n",
    "s.opcao_financiamento =  caixa.OpcaoFinanciamento(int('100501122'))\n",
    "print(f'Opção financiamento VÁLIDA: \"{s.opcao_financiamento}\"')\n",
    "\n",
    "try:\n",
    "    s.tipo_imovel = None\n",
    "except ErroTipoFinanciamento as erro:\n",
    "    print(f'{erro}')\n",
    "\n",
    "try:\n",
    "    s.valor_imovel = 100\n",
    "except ErroValorImovelAbaixoMin as erro:\n",
    "    print(f'{erro}')\n",
    "\n",
    "try:\n",
    "    s.renda_familiar = 10\n",
    "except ErroRendaFamiliar as erro:\n",
    "    print(f'{erro}')\n",
    "\n",
    "try:\n",
    "    #s.data_nascimento = '25/2/1997'\n",
    "    s.data_nascimento = '4/2/2004'\n",
    "except ErroDataNascimento as erro:\n",
    "    print(f'Data NÃO aceita: {erro}')\n",
    "else:\n",
    "    print(f'Data nascimento {s.data_nascimento} aceita!')\n",
    "\n",
    "try:\n",
    "    s.uf = 'bla'\n",
    "except ErroUF as erro:\n",
    "    print(f'{erro}')"
   ]
  },
  {
   "cell_type": "markdown",
   "id": "01c41d0c",
   "metadata": {},
   "source": [
    "### Listar opções de financiamento de acordo com os dados"
   ]
  },
  {
   "cell_type": "code",
   "execution_count": 1,
   "metadata": {},
   "outputs": [
    {
     "name": "stdout",
     "output_type": "stream",
     "text": [
      "Econtrado padrão na posição: 2914\n",
      "Opção de financiamento NÃO aceita: 100301132: SBPE (Créd. Imob. Poup. CAIXA): Imóvel Vinc. Empreend. Financ. CAIXA - Débito em conta na CAIXA\n",
      "Opção de financiamento NÃO aceita: 100301131: SBPE (TR, IPCA ou Tx FIXA): Imóvel Vinc. Empreend. Financiado na CAIXA - Débito em conta na CAIXA\n",
      "opcao.value=100301129\n",
      "opcao.versao='0'\n",
      "opcao.descricao='SBPE (TR, IPCA ou Tx FIXA): Débito em conta na CAIXA'\n",
      "********************************************************************************\n",
      "opcao.value=100301130\n",
      "opcao.versao='0'\n",
      "opcao.descricao='SBPE (Crédito Imobiliário Poupança CAIXA): Débito em conta na CAIXA'\n",
      "********************************************************************************\n"
     ]
    }
   ],
   "source": [
    "from sims.caixa import Simulador, OpcaoFinanciamento\n",
    "from util import Decimal2\n",
    "\n",
    "Decimal2.setar_local_pt_br()      \n",
    "\n",
    "simulador = Simulador()\n",
    "simulador.obter_cidades(uf='go')\n",
    "simulador.valor_imovel = '280.000'\n",
    "simulador.cpf = '17306910051'\n",
    "simulador.celular = '62 99602-8012'\n",
    "simulador.renda_familiar = '1.800'\n",
    "simulador.data_nascimento = '28/05/92'\n",
    "cod_cidade = simulador.obter_cod_cidade_por_nome('ITABERAI')\n",
    "\n",
    "opcoes_financiamento: list[OpcaoFinanciamento]\n",
    "opcoes_financiamento = simulador.obter_opcoes_financiamento()\n",
    "\n",
    "for opcao in opcoes_financiamento:\n",
    "    print(f'{opcao.value=}')\n",
    "    print(f'{opcao.versao=}')\n",
    "    print(f'{opcao.descricao=}')\n",
    "    print('*' * 80)\n",
    "    \n"
   ]
  },
  {
   "cell_type": "markdown",
   "id": "39f8f996",
   "metadata": {},
   "source": [
    "### Obtém elementos options do HTML\n",
    "* Procura todos os elementos option de acordo o id do elemento select específico\n",
    "* Localiza o que tiver selecionado"
   ]
  },
  {
   "cell_type": "code",
   "execution_count": 4,
   "id": "5433bc44",
   "metadata": {},
   "outputs": [
    {
     "name": "stdout",
     "output_type": "stream",
     "text": [
      "PRICE / IPCA --- 29@PRICE / IPCA\n",
      "PRICE / TAXA FIXA --- 42@PRICE / TAXA FIXA\n",
      "PRICE / TR --- 33@PRICE / TR\n",
      "SAC / IPCA --- 27@SAC / IPCA\n",
      "SAC / TAXA FIXA --- 41@SAC / TAXA FIXA\n",
      "SAC / TR --- 32@SAC / TR\n",
      "\n",
      "Selecionado: SAC / IPCA\n"
     ]
    }
   ],
   "source": [
    "html = '''<div class=\"control-item control-span-10_12\">\n",
    "<table class=\"simple-table\">\n",
    "<tbody>\n",
    "<tr>\n",
    "<td class=\"lighter milli\">Valor da entrada(R$)</td>\n",
    "<td><input class=\"field-d\" id=\"valorEntradaModificado\" name=\"valorEntradaModificado\" onkeyup=\"this.value = mascara_global('[###.]###,##', this.value)\" style=\"width: 200px\" type=\"text\" value=\"14.568,98\"/></td>\n",
    "</tr>\n",
    "<tr>\n",
    "<td class=\"lighter milli\">Prazo escolhido</td>\n",
    "<td><input class=\"field-d\" id=\"prazoModificado\" name=\"prazoModificado\" onkeyup=\"this.value = mascara_global('###', this.value)\" style=\"width: 130px\" type=\"text\" value=\"420\"/> meses</td>\n",
    "</tr>\n",
    "<tr>\n",
    "<td class=\"lighter milli\">Sistema de amortiza\\u00E7\\u00E3o/indexador</td>\n",
    "<td>\n",
    "<select id=\"codSistemaAmortizacaoAlterado\" name=\"codSistemaAmortizacaoAlterado\" style=\"width:150px;\"><option value=\"29@PRICE / IPCA\">PRICE / IPCA</option>\n",
    "<option value=\"42@PRICE / TAXA FIXA\">PRICE / TAXA FIXA</option>\n",
    "<option value=\"33@PRICE / TR\">PRICE / TR</option>\n",
    "<option selected=\"selected\" value=\"27@SAC / IPCA\">SAC / IPCA</option>\n",
    "<option value=\"41@SAC / TAXA FIXA\">SAC / TAXA FIXA</option>\n",
    "<option value=\"32@SAC / TR\">SAC / TR</option></select>\n",
    "</td>\n",
    "</tr>\n",
    "<tr>\n",
    "<td class=\"lighter milli\">Presta\\u00E7\\u00E3o m\\u00E1xima escolhida(R$)</td>\n",
    "<td>\n",
    "<input class=\"field-d\" id=\"prestacaoMaxDesejadaAlt\" name=\"prestacaoMaxDesejadaAlt\" onkeyup=\"this.value = mascara_global('[###.]###,##', this.value)\" style=\"width: 200px\" type=\"text\"/>\n",
    "</td>\n",
    "</tr>\n",
    "</tbody>\n",
    "</table>\n",
    "</div>'''\n",
    "\n",
    "from bs4 import BeautifulSoup\n",
    "import bs4.element\n",
    "\n",
    "\n",
    "bs = BeautifulSoup(html)\n",
    "\n",
    "el_select = bs.find('select', attrs={'id': 'codSistemaAmortizacaoAlterado'})\n",
    "el_options = el_select.findChildren('option')\n",
    "el_option: bs4.element.Tag\n",
    "el_option_selected: bs4.element.Tag = el_select.find('option', {'selected': 'selected'})\n",
    "for el_option in el_options:\n",
    "    print(f\"{el_option.text} --- {el_option['value']}\")\n",
    "print()\n",
    "print(f'Selecionado: {el_option_selected.text}')\n"
   ]
  },
  {
   "cell_type": "markdown",
   "id": "5bfdbefa",
   "metadata": {},
   "source": [
    "#### Testa diferentes números de telefone em vários formatos"
   ]
  },
  {
   "cell_type": "code",
   "execution_count": 2,
   "metadata": {},
   "outputs": [
    {
     "name": "stdout",
     "output_type": "stream",
     "text": [
      "62 9875-3244\n",
      "(62) 9875-3244\n",
      "\n",
      "62 9875-3244\n",
      "(62)9875-3244\n",
      "\n",
      "556299253497\n",
      "+0556299253497\n",
      "\n",
      "5562999253497\n",
      "(62) 99925-3497\n",
      "\n",
      "9875-3244\n",
      "55(62)9875-3244\n",
      "\n"
     ]
    }
   ],
   "source": [
    "from util import Fone, FoneFormato, FoneTam\n",
    "\n",
    "num0: str = '9875-3244'\n",
    "num1: str = '62 9875-3244'\n",
    "num2: str =  '556299253497'\n",
    "num3: str = '5562999253497'\n",
    "\n",
    "try:\n",
    "    f = Fone.a_partir_de_fmt_comum(num1)\n",
    "    print(num1)\n",
    "    print(f.formatar())\n",
    "    print()\n",
    "\n",
    "    f = Fone.a_partir_de_fmt_caixa(num1)\n",
    "    print(num1)\n",
    "    print(f.formatar())\n",
    "    print()\n",
    "\n",
    "    f = Fone.a_partir_de_fmt_somente_numeros(num2)\n",
    "    print(num2)\n",
    "    print(f.formatar())\n",
    "    print()\n",
    "\n",
    "    f = Fone.a_partir_de_fmt_comum(num3)\n",
    "    print(num3)\n",
    "    print(f.formatar())\n",
    "    print()\n",
    "\n",
    "    f = Fone(num0, FoneFormato.DDI_DDD_PREF_SUF, False)\n",
    "    print(num0)\n",
    "    print(f.formatar())\n",
    "    print()\n",
    "\n",
    "except ValueError as erro:\n",
    "    print(f'{erro=}')"
   ]
  },
  {
   "cell_type": "markdown",
   "id": "11a91d09",
   "metadata": {},
   "source": [
    "#### Filtra imóveis site imobiliária"
   ]
  },
  {
   "cell_type": "code",
   "execution_count": 5,
   "id": "b2bb2ac8",
   "metadata": {},
   "outputs": [
    {
     "name": "stdout",
     "output_type": "stream",
     "text": [
      "https://itamarzinimoveis.com.br/imovel?operacao=1&tipoimovel=&imos_codigo=&empreendimento=&destaque=false&vlini=262500.00&vlfim=437500.00&exclusivo=false&cidade=&pais=1&filtropais=false&order=minval&limit=9&page=0&ttpr_codigo=1\n",
      "\n"
     ]
    }
   ],
   "source": [
    "from sims.base import SiteImobiliaria\n",
    "from util import Decimal2\n",
    "\n",
    "# si = SiteImobiliaria(Decimal2('85000'), Decimal2('120000'))\n",
    "# print(si.url)\n",
    "# print()\n",
    "\n",
    "si = SiteImobiliaria.a_partir_de_valor_imovel(350000, variacao_perc=25)\n",
    "print(si.url)\n",
    "print()"
   ]
  },
  {
   "cell_type": "markdown",
   "id": "10d6f0d8",
   "metadata": {},
   "source": [
    "##### Testes herança"
   ]
  },
  {
   "cell_type": "code",
   "execution_count": 1,
   "id": "7e675db4",
   "metadata": {},
   "outputs": [
    {
     "name": "stdout",
     "output_type": "stream",
     "text": [
      "self.prazo_max=344 :: SimuladorBase.prazo_max=<property object at 0x7f9475973b00>\n",
      "self.teste()=322\n",
      "self.banco=<Bancos.bradesco: 2>\n",
      "self.uf='GO'\n"
     ]
    },
    {
     "data": {
      "text/plain": [
       "<__main__.Simulador at 0x7f9475c4b6a0>"
      ]
     },
     "execution_count": 1,
     "metadata": {},
     "output_type": "execute_result"
    }
   ],
   "source": [
    "from sims.base import UFS, SimuladorBase, Bancos\n",
    "\n",
    "class Simulador(SimuladorBase):\n",
    "    def __init__(self) -> None:\n",
    "        super().__init__(banco=Bancos.bradesco)\n",
    "        self.prazo_max = 344\n",
    "        self.uf = 'go'\n",
    "        print(f'{self.prazo_max=} :: {SimuladorBase.prazo_max=}')\n",
    "        print(f'{self.teste()=}')\n",
    "        print(f'{self.banco=}')\n",
    "        print(f'{self.uf=}')\n",
    "    \n",
    "\n",
    "Simulador()"
   ]
  },
  {
   "cell_type": "markdown",
   "id": "94a690f0",
   "metadata": {},
   "source": [
    "## Simulador Bradesco\n",
    "* extrair __VIEWSTATE de response"
   ]
  },
  {
   "cell_type": "code",
   "execution_count": 9,
   "id": "cfbb4443",
   "metadata": {},
   "outputs": [
    {
     "name": "stdout",
     "output_type": "stream",
     "text": [
      "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\n"
     ]
    }
   ],
   "source": [
    "html: str = \"\"\"\n",
    "                                  <!-- FIM CAMPOS NOVOS -->\n",
    "\n",
    "                                            \n",
    "                                        </ol>\n",
    "                                    </div>\n",
    "                                </div>\n",
    "                            </div>\n",
    "\n",
    "                            \n",
    "                            </form>\n",
    "                        </div>\n",
    "                    </div>\n",
    "                    <!-- ########################################### -->\n",
    "                    <!-- | FIM COMPRAR IMÓVEL | -->\n",
    "                    <!-- ########################################### -->\n",
    "\n",
    "                    \n",
    "                </div>\n",
    "            |0|hiddenField|__EVENTTARGET||0|hiddenField|__EVENTARGUMENT||0|hiddenField|__LASTFOCUS||2740|hiddenField|__VIEWSTATE|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|8|hiddenField|__VIEWSTATEGENERATOR|638B4BEA|1|hiddenField|__SCROLLPOSITIONX|0|1|hiddenField|__SCROLLPOSITIONY|0|22|asyncPostBackControlIDs||ToolkitScriptManager1,|0|postBackControlIDs|||10|updatePanelIDs||tupdPanel,|0|childUpdatePanelIDs|||9|panelsToRefreshIDs||updPanel,|2|asyncPostBackTimeout||90|16|formAction||./Simulacao.aspx|15|pageTitle||Crédito On-Line|1161|scriptBlock|ScriptContentNoTags|if (window.__ExtendedControlCssLoaded == null || typeof window.__ExtendedControlCssLoaded == 'undefined') {    window.__ExtendedControlCssLoaded = new Array();}var controlCssLoaded = window.__ExtendedControlCssLoaded; var head = document.getElementsByTagName('HEAD')[0];if (head && !Array.contains(controlCssLoaded,'/CRIM/WebResource.axd?d=x3yCduOOSO4SuKOHRWQAExwcyiIiKk75Ij-dbtEMs7Dnc1e-Wdx_nMpC_PIQgSDu2sX5rI4Q0KvUZBy8RLZQHg0w41LTM_SnEko2DQ0z96KMIkegWYn71VL9xH1b5B0SST2pkcyfSU6KCHbXUqxPWZL8iexbMMQM5jFwGrMfmwg1&t=636336630103584837')) {var linkElement = document.createElement('link');linkElement.type = 'text/css';linkElement.rel = 'stylesheet';linkElement.href = '/CRIM/WebResource.axd?d=x3yCduOOSO4SuKOHRWQAExwcyiIiKk75Ij-dbtEMs7Dnc1e-Wdx_nMpC_PIQgSDu2sX5rI4Q0KvUZBy8RLZQHg0w41LTM_SnEko2DQ0z96KMIkegWYn71VL9xH1b5B0SST2pkcyfSU6KCHbXUqxPWZL8iexbMMQM5jFwGrMfmwg1&t=636336630103584837';head.appendChild(linkElement);controlCssLoaded.push('/CRIM/WebResource.axd?d=x3yCduOOSO4SuKOHRWQAExwcyiIiKk75Ij-dbtEMs7Dnc1e-Wdx_nMpC_PIQgSDu2sX5rI4Q0KvUZBy8RLZQHg0w41LTM_SnEko2DQ0z96KMIkegWYn71VL9xH1b5B0SST2pkcyfSU6KCHbXUqxPWZL8iexbMMQM5jFwGrMfmwg1&t=636336630103584837');}|75|scriptStartupBlock|ScriptContentNoTags|$(document).ready(function () { $('[data-toggle=\"tooltip\"]').tooltip(); });|\"\"\"\n",
    "\n",
    "def _extrair_viewstate_response(txt: str) -> str:\n",
    "    PADRAO1 = '__VIEWSTATE|'\n",
    "    PADRAO2 = '|'\n",
    "    pos1: int = txt.rfind(PADRAO1)\n",
    "    if pos1 == -1:\n",
    "        return ''\n",
    "    \n",
    "    pos1 += len(PADRAO1)\n",
    "    pos2: int = txt.find(PADRAO2, pos1)\n",
    "    if pos2 == -1:\n",
    "        return ''\n",
    "\n",
    "    #print(f'{pos1=}, {pos2=}')\n",
    "    return txt[pos1:pos2]\n",
    "\n",
    "print(f'{_extrair_viewstate_response(html)}')"
   ]
  },
  {
   "cell_type": "markdown",
   "id": "dbc2e777",
   "metadata": {},
   "source": [
    "#### Extrair versão url enquadrar produtos"
   ]
  },
  {
   "cell_type": "code",
   "execution_count": 13,
   "id": "820f7610",
   "metadata": {},
   "outputs": [
    {
     "name": "stdout",
     "output_type": "stream",
     "text": [
      "versao='3.21.72.0.3'\n"
     ]
    }
   ],
   "source": [
    "import requests\n",
    "from bs4 import BeautifulSoup\n",
    "\n",
    "\n",
    "resp = requests.get('http://www8.caixa.gov.br/siopiinternet-web/simulaOperacaoInternet.do?method=inicializarCasoUso')\n",
    "bs = BeautifulSoup(resp.text)\n",
    "\n",
    "frm = bs.find('form', attrs={'name': 'SimulaOperacaoImobiliariaInternetFRM'})\n",
    "if not frm:\n",
    "    print('NÃO encontrou formulário com a versão.')\n",
    "else:\n",
    "    input_versao = frm.find('input', attrs={'type': 'hidden', 'name': 'versao'})\n",
    "    if not input_versao:\n",
    "        print('NÃO ncontrou versão!')\n",
    "    else:\n",
    "        versao: str = input_versao['value'].strip()\n",
    "        print(f'{versao=}')\n",
    "    \n",
    "\n"
   ]
  },
  {
   "cell_type": "code",
   "execution_count": 1,
   "id": "441fd872",
   "metadata": {},
   "outputs": [
    {
     "data": {
      "text/plain": [
       "False"
      ]
     },
     "execution_count": 1,
     "metadata": {},
     "output_type": "execute_result"
    }
   ],
   "source": [
    "t = (1, 0, 4, 5, 8)\n",
    "l = [2, 11, 9, 6, 10, 7]\n",
    "any(i in t for i in l)\n"
   ]
  },
  {
   "cell_type": "code",
   "execution_count": 2,
   "id": "0e0158fd",
   "metadata": {},
   "outputs": [
    {
     "data": {
      "text/plain": [
       "[1, 2, 3, 4, 'a', 'b', 5, 6, 7, 8, 9]"
      ]
     },
     "execution_count": 2,
     "metadata": {},
     "output_type": "execute_result"
    }
   ],
   "source": [
    "l: tuple = [1, 2, 3, 4]\n",
    "l += ['a', 'b', 5, 6, 7, 8, 9]\n",
    "l"
   ]
  },
  {
   "cell_type": "code",
   "execution_count": 2,
   "id": "5780511f",
   "metadata": {},
   "outputs": [
    {
     "name": "stdout",
     "output_type": "stream",
     "text": [
      "SimuladorBase.quantidade_bancos_habilitados()=1\n",
      "SimuladorBase.ao_menos_um_banco_habilitado()=True\n",
      "SimuladorBase.obter_primeiro_banco_habilitado()=<Banco.CAIXA: 1>\n"
     ]
    }
   ],
   "source": [
    "BANCOS_ACEITOS = {\n",
    "    'caixa': False,\n",
    "    'bradesco': True,\n",
    "    'itau': False,\n",
    "    'santander': False\n",
    "}\n",
    "\n",
    "# #quant_bancos_hab: int = \\\n",
    "# #    len(list(filter(lambda b : b, BANCOS_ACEITOS.values())))\n",
    "\n",
    "# quant_bancos_hab: int = \\\n",
    "#     len([b for b in BANCOS_ACEITOS.values() if b])\n",
    "\n",
    "# print(f'{quant_bancos_hab=}')\n",
    "\n",
    "from sims.base import SimuladorBase, Banco\n",
    "from config.geral import Parametros\n",
    "\n",
    "print(f'{SimuladorBase.quantidade_bancos_habilitados()=}')\n",
    "print(f'{SimuladorBase.ao_menos_um_banco_habilitado()=}')\n",
    "\n",
    "def obter_primeiro_banco_habilitado2() -> Banco:\n",
    "    k: str; v: bool\n",
    "    for k, v in BANCOS_ACEITOS.items():\n",
    "        if v:\n",
    "            return getattr(Banco, k.upper())\n",
    "\n",
    "print(f'{SimuladorBase.obter_primeiro_banco_habilitado()=}')"
   ]
  }
 ],
 "metadata": {
  "interpreter": {
   "hash": "ddf3226fac7371da3b2210e9b8fab6d7f3c119aa948cbcf9753c4c8984d2fed7"
  },
  "kernelspec": {
   "display_name": "Python 3.10.0 ('simovel-venv': venv)",
   "language": "python",
   "name": "python3"
  },
  "language_info": {
   "codemirror_mode": {
    "name": "ipython",
    "version": 3
   },
   "file_extension": ".py",
   "mimetype": "text/x-python",
   "name": "python",
   "nbconvert_exporter": "python",
   "pygments_lexer": "ipython3",
   "version": "3.10.0"
  }
 },
 "nbformat": 4,
 "nbformat_minor": 5
}
