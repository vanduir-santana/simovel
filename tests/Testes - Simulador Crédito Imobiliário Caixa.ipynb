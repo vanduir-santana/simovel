{
 "cells": [
  {
   "cell_type": "markdown",
   "source": [
    "# Testes Simulador de Crédito Imobiliário\n",
    "## Simulador CEF"
   ],
   "metadata": {}
  },
  {
   "cell_type": "markdown",
   "source": [
    "#### Obtém cidades a partir de uma UF"
   ],
   "metadata": {}
  },
  {
   "cell_type": "markdown",
   "source": [
    "### Main1"
   ],
   "metadata": {}
  },
  {
   "cell_type": "code",
   "execution_count": 1,
   "source": [
    "# data dt_nascimento aprox. Chiriro\n",
    "from datetime import date \n",
    "from datetime import timedelta\n",
    "dt_doc = date(2018, 4, 24)\n",
    "dt_nasc = dt_doc - timedelta(days=30*6)\n",
    "hj = date.today()\n",
    "td_dif = hj - dt_nasc\n",
    "idade_aprox = td_dif.days / 30. / 12.\n",
    "print(f'Data documento: {dt_doc}')\n",
    "print(f'Data nascimento: {dt_nasc}')\n",
    "print(f'Idade aprox.: {idade_aprox}')"
   ],
   "outputs": [
    {
     "output_type": "stream",
     "name": "stdout",
     "text": [
      "Data documento: 2018-04-24\n",
      "Data nascimento: 2017-10-26\n",
      "Idade aprox.: 3.994444444444444\n"
     ]
    }
   ],
   "metadata": {}
  },
  {
   "cell_type": "code",
   "execution_count": 17,
   "source": [
    "idade_aprox = (td_dif.days / 30.) / 12.\n",
    "meses_rest = (td_dif.days / 30.) % 12.\n",
    "print(idade_aprox)\n",
    "print(meses_rest)"
   ],
   "outputs": [
    {
     "output_type": "stream",
     "name": "stdout",
     "text": [
      "3.9583333333333335\n",
      "11.5\n"
     ]
    }
   ],
   "metadata": {}
  },
  {
   "cell_type": "code",
   "execution_count": 25,
   "source": [
    "import urllib.parse\n",
    "\n",
    "def _teste(valor_imovel: str='150.000,00', renda_familiar: str='2.200,00', tipo_imovel: int=1, \n",
    "        grupo_tipo_financiamento: int=1, data_nascimento: str='08/02/1987') -> bool:\n",
    "\n",
    "\n",
    "    valor_imovel = urllib.parse.quote(valor_imovel)\n",
    "    renda_familiar = urllib.parse.quote(renda_familiar)\n",
    "    data_nascimento = urllib.parse.quote_plus(data_nascimento)\n",
    "\n",
    "    uf = 'GO'                   # TODO: setar do objeto self.go\n",
    "    cod_cidade = 2091           # TODO: setar do objeto\n",
    "    nu_item_produto = 100501123 # TODO: procurar saber se muda\n",
    "    valor_reforma = ''          # TODO: implementar?\n",
    "    data_beneficio_fgts = ''    # TODO: verificar com Itamarzim, se sim aplicar função qp\n",
    "    beneficiado_fgts = 'F'      # TODO: verificar com Itamarzim\n",
    "    cod_contexto_credito = 1    # TODO: pesquisar\n",
    "    tipo_pessoa = 'F'           # TODO: verificar Itamarzim se vai vender pessoa Jurídica tb\n",
    "    permite_detalhamento = 'S'  \n",
    "    cpf = '023.282.691-92'      # TODO: retirar formatação\n",
    "    cpf = cpf.replace('.', '').replace('-', '')\n",
    "    possui_relacionamento_caixa = ''\n",
    "    celular = '(62)99843-2122'\n",
    "    celular = urllib.parse.quote_plus(celular, safe='()')\n",
    "\n",
    "    # quote\n",
    "    param2_browser = f\"\"\"string:valorImovel%3D150.000%2C00%3ArendaFamiliarBruta%3D2.200%2C00%3AtipoImovel%3D1%3AimovelCidade%3D%3AvaContaFgts%3D%3AgrupoTipoFinanciamento%3D1%3AdataNascimento%3D08%2F02%2F1987%3Auf%3DGO%3Acidade%3D2091%3AnuItemProduto%3D100501123%3AnuVersao%3D2%3AvalorReforma%3D%3AcodigoSeguradoraSelecionada%3Dundefined%3AnomeSeguradora%3Dundefined%3AdataBeneficioFGTS%3D%3AbeneficiadoFGTS%3DF%3AcodContextoCredito%3D1%3AcomplementouDadosSubsidio%3D%3Apessoa%3DF%3Aconvenio%3D%3AnuEmpresa%3D%3AnuSeqPropostaInternet%3D%3ApermiteDetalhamento%3DS%3AcodSistemaAmortizacaoAlterado%3Dundefined%3AnuCpfCnpjInteressado%3D02328269192%3AicFatorSocial%3D%3AicPossuiRelacionamentoCAIXA%3D%3AicServidorPublico%3D%3AicContaSalarioCAIXA%3D%3AvaNuApf%3D%3AnuTelefoneCelular%3D(62)99843-2122%3AicAceitaReceberSMS%3D%3AvaIcTaxaCustomizada%3D\"\"\"\n",
    "    # quote + f-string\n",
    "    param2 = f\"\"\"string:valorImovel%3D{valor_imovel}%3ArendaFamiliarBruta%3D{renda_familiar}%3AtipoImovel%3D{tipo_imovel}%3AimovelCidade%3D%3AvaContaFgts%3D%3AgrupoTipoFinanciamento%3D{grupo_tipo_financiamento}%3AdataNascimento%3D{data_nascimento}%3Auf%3D{uf}%3Acidade%3D{cod_cidade}%3AnuItemProduto%3D{nu_item_produto}%3AnuVersao%3D2%3AvalorReforma%3D{valor_reforma}%3AcodigoSeguradoraSelecionada%3Dundefined%3AnomeSeguradora%3Dundefined%3AdataBeneficioFGTS%3D{data_beneficio_fgts}%3AbeneficiadoFGTS%3D{beneficiado_fgts}%3AcodContextoCredito%3D{cod_contexto_credito}%3AcomplementouDadosSubsidio%3D%3Apessoa%3D{tipo_pessoa}%3Aconvenio%3D%3AnuEmpresa%3D%3AnuSeqPropostaInternet%3D%3ApermiteDetalhamento%3D{permite_detalhamento}%3AcodSistemaAmortizacaoAlterado%3Dundefined%3AnuCpfCnpjInteressado%3D{cpf}%3AicFatorSocial%3D%3AicPossuiRelacionamentoCAIXA%3D{possui_relacionamento_caixa}%3AicServidorPublico%3D%3AicContaSalarioCAIXA%3D%3AvaNuApf%3D%3AnuTelefoneCelular%3D{celular}%3AicAceitaReceberSMS%3D%3AvaIcTaxaCustomizada%3D\"\"\"\n",
    "\n",
    "    if not param2:\n",
    "        print('param2 não pode ser vazio!')\n",
    "        #return False\n",
    "    else:\n",
    "        print(param2_browser)\n",
    "        print()\n",
    "        print(param2)\n",
    "        print()\n",
    "        print(param2_browser == param2)\n",
    "\n",
    "_teste()\n",
    "\n"
   ],
   "outputs": [
    {
     "output_type": "stream",
     "name": "stdout",
     "text": [
      "string:valorImovel%3D150.000%2C00%3ArendaFamiliarBruta%3D2.200%2C00%3AtipoImovel%3D1%3AimovelCidade%3D%3AvaContaFgts%3D%3AgrupoTipoFinanciamento%3D1%3AdataNascimento%3D08%2F02%2F1987%3Auf%3DGO%3Acidade%3D2091%3AnuItemProduto%3D100501123%3AnuVersao%3D2%3AvalorReforma%3D%3AcodigoSeguradoraSelecionada%3Dundefined%3AnomeSeguradora%3Dundefined%3AdataBeneficioFGTS%3D%3AbeneficiadoFGTS%3DF%3AcodContextoCredito%3D1%3AcomplementouDadosSubsidio%3D%3Apessoa%3DF%3Aconvenio%3D%3AnuEmpresa%3D%3AnuSeqPropostaInternet%3D%3ApermiteDetalhamento%3DS%3AcodSistemaAmortizacaoAlterado%3Dundefined%3AnuCpfCnpjInteressado%3D02328269192%3AicFatorSocial%3D%3AicPossuiRelacionamentoCAIXA%3D%3AicServidorPublico%3D%3AicContaSalarioCAIXA%3D%3AvaNuApf%3D%3AnuTelefoneCelular%3D(62)99843-2122%3AicAceitaReceberSMS%3D%3AvaIcTaxaCustomizada%3D\n",
      "\n",
      "string:valorImovel%3D150.000%2C00%3ArendaFamiliarBruta%3D2.200%2C00%3AtipoImovel%3D1%3AimovelCidade%3D%3AvaContaFgts%3D%3AgrupoTipoFinanciamento%3D1%3AdataNascimento%3D08%2F02%2F1987%3Auf%3DGO%3Acidade%3D2091%3AnuItemProduto%3D100501123%3AnuVersao%3D2%3AvalorReforma%3D%3AcodigoSeguradoraSelecionada%3Dundefined%3AnomeSeguradora%3Dundefined%3AdataBeneficioFGTS%3D%3AbeneficiadoFGTS%3DF%3AcodContextoCredito%3D1%3AcomplementouDadosSubsidio%3D%3Apessoa%3DF%3Aconvenio%3D%3AnuEmpresa%3D%3AnuSeqPropostaInternet%3D%3ApermiteDetalhamento%3DS%3AcodSistemaAmortizacaoAlterado%3Dundefined%3AnuCpfCnpjInteressado%3D02328269192%3AicFatorSocial%3D%3AicPossuiRelacionamentoCAIXA%3D%3AicServidorPublico%3D%3AicContaSalarioCAIXA%3D%3AvaNuApf%3D%3AnuTelefoneCelular%3D(62)99843-2122%3AicAceitaReceberSMS%3D%3AvaIcTaxaCustomizada%3D\n",
      "\n",
      "True\n"
     ]
    }
   ],
   "metadata": {}
  },
  {
   "cell_type": "code",
   "execution_count": 35,
   "source": [
    "import urllib\n",
    "import urllib.parse\n",
    "\n",
    "from bs4 import BeautifulSoup\n",
    "\n",
    "def get_html(arq='sim-cef.html'):\n",
    "    with open(arq, 'r') as f:\n",
    "        return f.read().encode('utf-8')\n",
    "\n",
    "html = get_html()\n",
    "\n",
    "bs = BeautifulSoup(html)\n",
    "tabs = bs.find_all('table', {'class': 'simple-table'})\n",
    "\n",
    "# primeira tab\n",
    "#for i in tabs[0]:\n",
    "tds_titulos = tabs[0].find_all('td', attrs={'class': 'lighter milli'})\n",
    "for i, td in enumerate(tds_titulos):\n",
    "    txt = td.text.strip().strip('\\n')\n",
    "    print(type(txt))\n",
    "    print(i, '-', txt)\n"
   ],
   "outputs": [
    {
     "output_type": "error",
     "ename": "AttributeError",
     "evalue": "'str' object has no attribute 'decode'",
     "traceback": [
      "\u001b[0;31m---------------------------------------------------------------------------\u001b[0m",
      "\u001b[0;31mAttributeError\u001b[0m                            Traceback (most recent call last)",
      "\u001b[0;32m/tmp/ipykernel_6770/4280054202.py\u001b[0m in \u001b[0;36m<module>\u001b[0;34m\u001b[0m\n\u001b[1;32m      8\u001b[0m         \u001b[0;32mreturn\u001b[0m \u001b[0mf\u001b[0m\u001b[0;34m.\u001b[0m\u001b[0mread\u001b[0m\u001b[0;34m(\u001b[0m\u001b[0;34m)\u001b[0m\u001b[0;34m.\u001b[0m\u001b[0mdecode\u001b[0m\u001b[0;34m(\u001b[0m\u001b[0;34m'utf-8'\u001b[0m\u001b[0;34m)\u001b[0m\u001b[0;34m\u001b[0m\u001b[0;34m\u001b[0m\u001b[0m\n\u001b[1;32m      9\u001b[0m \u001b[0;34m\u001b[0m\u001b[0m\n\u001b[0;32m---> 10\u001b[0;31m \u001b[0mhtml\u001b[0m \u001b[0;34m=\u001b[0m \u001b[0mget_html\u001b[0m\u001b[0;34m(\u001b[0m\u001b[0;34m)\u001b[0m\u001b[0;34m\u001b[0m\u001b[0;34m\u001b[0m\u001b[0m\n\u001b[0m\u001b[1;32m     11\u001b[0m \u001b[0;34m\u001b[0m\u001b[0m\n\u001b[1;32m     12\u001b[0m \u001b[0mbs\u001b[0m \u001b[0;34m=\u001b[0m \u001b[0mBeautifulSoup\u001b[0m\u001b[0;34m(\u001b[0m\u001b[0mhtml\u001b[0m\u001b[0;34m)\u001b[0m\u001b[0;34m\u001b[0m\u001b[0;34m\u001b[0m\u001b[0m\n",
      "\u001b[0;32m/tmp/ipykernel_6770/4280054202.py\u001b[0m in \u001b[0;36mget_html\u001b[0;34m(arq)\u001b[0m\n\u001b[1;32m      6\u001b[0m \u001b[0;32mdef\u001b[0m \u001b[0mget_html\u001b[0m\u001b[0;34m(\u001b[0m\u001b[0marq\u001b[0m\u001b[0;34m=\u001b[0m\u001b[0;34m'sim-cef.html'\u001b[0m\u001b[0;34m)\u001b[0m\u001b[0;34m:\u001b[0m\u001b[0;34m\u001b[0m\u001b[0;34m\u001b[0m\u001b[0m\n\u001b[1;32m      7\u001b[0m     \u001b[0;32mwith\u001b[0m \u001b[0mopen\u001b[0m\u001b[0;34m(\u001b[0m\u001b[0marq\u001b[0m\u001b[0;34m,\u001b[0m \u001b[0;34m'r'\u001b[0m\u001b[0;34m)\u001b[0m \u001b[0;32mas\u001b[0m \u001b[0mf\u001b[0m\u001b[0;34m:\u001b[0m\u001b[0;34m\u001b[0m\u001b[0;34m\u001b[0m\u001b[0m\n\u001b[0;32m----> 8\u001b[0;31m         \u001b[0;32mreturn\u001b[0m \u001b[0mf\u001b[0m\u001b[0;34m.\u001b[0m\u001b[0mread\u001b[0m\u001b[0;34m(\u001b[0m\u001b[0;34m)\u001b[0m\u001b[0;34m.\u001b[0m\u001b[0mdecode\u001b[0m\u001b[0;34m(\u001b[0m\u001b[0;34m'utf-8'\u001b[0m\u001b[0;34m)\u001b[0m\u001b[0;34m\u001b[0m\u001b[0;34m\u001b[0m\u001b[0m\n\u001b[0m\u001b[1;32m      9\u001b[0m \u001b[0;34m\u001b[0m\u001b[0m\n\u001b[1;32m     10\u001b[0m \u001b[0mhtml\u001b[0m \u001b[0;34m=\u001b[0m \u001b[0mget_html\u001b[0m\u001b[0;34m(\u001b[0m\u001b[0;34m)\u001b[0m\u001b[0;34m\u001b[0m\u001b[0;34m\u001b[0m\u001b[0m\n",
      "\u001b[0;31mAttributeError\u001b[0m: 'str' object has no attribute 'decode'"
     ]
    }
   ],
   "metadata": {}
  },
  {
   "cell_type": "code",
   "execution_count": 33,
   "source": [
    "s = 'Cota m\\u00E1xima financiamento'\n",
    "print(s)"
   ],
   "outputs": [
    {
     "output_type": "stream",
     "name": "stdout",
     "text": [
      "Cota máxima financiamento\n"
     ]
    }
   ],
   "metadata": {}
  }
 ],
 "metadata": {
  "kernelspec": {
   "name": "python3",
   "display_name": "Python 3.9.1 64-bit ('simovel-env': venv)"
  },
  "language_info": {
   "codemirror_mode": {
    "name": "ipython",
    "version": 3
   },
   "file_extension": ".py",
   "mimetype": "text/x-python",
   "name": "python",
   "nbconvert_exporter": "python",
   "pygments_lexer": "ipython3",
   "version": "3.9.1"
  },
  "interpreter": {
   "hash": "1423e27004cd63f2507fded8e1fe215abac40606fd1e0f4816b768b33fd4024f"
  }
 },
 "nbformat": 4,
 "nbformat_minor": 5
}